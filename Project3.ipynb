{
 "cells": [
  {
   "cell_type": "markdown",
   "id": "52f1631a",
   "metadata": {},
   "source": [
    "# Project 3 \n",
    "The objective of this project is to perform word frequency analysis. This link provides Twitter data of Elon Musk from 2010-2022. For analysis consider the years `2017-2021` (last 5 complete years). Each year has thousands of tweets. Assume each year to be a document (all the tweets in one year will be considered as a document) \n",
    "1. Compute the term frequencies for each year. They should be normalized (scale of [0, 1]). Exclude stopwords. \n",
    "2. Show the top 10 words (for each year) by highest value of word frequency. \n",
    "3. Plot a histogram of word frequencies for each year \n",
    "4. Demonstrate Zipf’s law by plotting log-log plots of word frequencies v. rank for each year 5. Use TF-IDF to calculate and show the 5 most “important” words for each y    \n",
    "https://www.kaggle.com/datasets/ayhmrba/elon-musk-tweets-2010-2021?resource=download&select=2017.csv"
   ]
  },
  {
   "cell_type": "markdown",
   "id": "3f3fb6ff",
   "metadata": {},
   "source": [
    "# Data Description\n",
    "## About Dataset\n",
    "Elon Musk Tweets (2010 - 2021)\n",
    "All Elon Musk Twitter Tweets, from 2010 to March 22, 2021.\n",
    "23/3/2021\n",
    "Elon Reeve Musk FRS is a business magnate, industrial designer, and engineer. He is the founder, CEO, CTO, and chief designer of SpaceX; early investor, CEO, and product architect of Tesla, Inc.; founder of The Boring Company; co-founder of Neuralink; and co-founder and initial co-chairman of OpenAI. - Wikipedia\n",
    "Although Elon joined twitter in 2009, **he didn't start tweeting until 2010 - or prior tweets were deleted-.**\n",
    "\n",
    "## Column Descriptions:\n",
    "#: Index.\n",
    "            `id: ID of tweet`.\n",
    "            conversation_id:: ID of twitter conversation/thread.\n",
    "            created_at: Unknown, some kind of time/location index from twitter. (?)\n",
    "            `date: Date of Creation`.\n",
    "            timezone: Timezone.\n",
    "            place: Location.\n",
    "            `tweet: Contents of tweet, tweet body.`\n",
    "            `language: Language of tweet.`\n",
    "            hashtags: Hashtags in the tweet \"#\".\n",
    "            cashtags: Cashtags in the tweet \"$\", often used for stock tweets.\n",
    "            `user_id: ID of the tweet/reply author.`\n",
    "            `user_id_str: User ID but in string format.`\n",
    "            `username: Username of the tweet/reply author.`\n",
    "            name: Name of tweet/reply author.\n",
    "            day: Day of the week in which the tweet was published.\n",
    "            hour: Hour of the day in which the tweet was published.\n",
    "            link: Link to the tweet.\n",
    "            urls: Urls present in the tweet.\n",
    "            photos: Photos in the tweet (as links).\n",
    "            video: videos in the tweet (Yes/No).\n",
    "            thumbnail: Thumbnail for the image present in the tweet (if applicable, otherwise null).\n",
    "            `retweet: Is this a retweet? (Yes/No).`\n",
    "            nlikes: Number of likes on the tweet.\n",
    "            nreplies: Number of replies to the tweet.\n",
    "            nretweets: Number of times the tweet was retweeted.\n",
    "            quote_url: Url of quoted tweet, if applicable.\n",
    "            search: Unknown.\n",
    "            near: Additional location info, null.\n",
    "            geo: Additional location info, null.\n",
    "            source: Unknown, null.\n",
    "            user_rt_id: Possibly the id of the tweet author if it's a retweet, null.\n",
    "            user_rt: Possibly the username of the tweet author if it's a retweet, null.\n",
    "            retweet_id: Id of the retweet, null.\n",
    "            reply_to: Info about the original tweet if this datapoint is a reply.\n",
    "            retweet_date: Date of retweet, null.\n",
    "            translate, trans_src, trans_dest Are columns that have to do with the google translate api, which was not used, therefore these columns are all null.\n",
    "            translate, trans_src, trans_dest Are columns that have to do with the google translate api, which was not used, therefore these columns are all null.\n",
    "\n",
    "Elon Musk: https://en.wikipedia.org/wiki/Elon_Musk\n",
    "Twitter: https://twitter.com\n",
    "Elon Musk on Twitter: https://twitter.com/elonmusk"
   ]
  },
  {
   "cell_type": "markdown",
   "id": "4932a66c",
   "metadata": {},
   "source": [
    "# Pre- work"
   ]
  },
  {
   "cell_type": "code",
   "execution_count": 112,
   "id": "0e51754f",
   "metadata": {},
   "outputs": [
    {
     "name": "stderr",
     "output_type": "stream",
     "text": [
      "[nltk_data] Downloading package stopwords to\n",
      "[nltk_data]     /Users/audrey/nltk_data...\n",
      "[nltk_data]   Package stopwords is already up-to-date!\n"
     ]
    }
   ],
   "source": [
    "# import libs\n",
    "# basic libs  \n",
    "import pandas as pd\n",
    "import numpy as np\n",
    "import math\n",
    "import os\n",
    "\n",
    "# visualization libs\n",
    "import matplotlib.pyplot as plt\n",
    "from PIL import Image\n",
    "from wordcloud import WordCloud, STOPWORDS, ImageColorGenerator\n",
    "\n",
    "\n",
    "import glob\n",
    "from pylab import *\n",
    "\n",
    "# models libs\n",
    "import re\n",
    "import nltk\n",
    "from nltk.corpus import stopwords\n",
    "\n",
    "# stopwords\n",
    "nltk.download('stopwords')\n",
    "from nltk.corpus import stopwords"
   ]
  },
  {
   "cell_type": "code",
   "execution_count": 106,
   "id": "1d447b66",
   "metadata": {},
   "outputs": [
    {
     "name": "stdout",
     "output_type": "stream",
     "text": [
      "Requirement already satisfied: WordCloud in /Users/audrey/opt/anaconda3/lib/python3.8/site-packages (1.8.2.2)\n",
      "Requirement already satisfied: matplotlib in /Users/audrey/opt/anaconda3/lib/python3.8/site-packages (from WordCloud) (3.3.4)\n",
      "Requirement already satisfied: pillow in /Users/audrey/opt/anaconda3/lib/python3.8/site-packages (from WordCloud) (8.2.0)\n",
      "Requirement already satisfied: numpy>=1.6.1 in /Users/audrey/opt/anaconda3/lib/python3.8/site-packages (from WordCloud) (1.22.4)\n",
      "Requirement already satisfied: pyparsing!=2.0.4,!=2.1.2,!=2.1.6,>=2.0.3 in /Users/audrey/opt/anaconda3/lib/python3.8/site-packages (from matplotlib->WordCloud) (2.4.7)\n",
      "Requirement already satisfied: kiwisolver>=1.0.1 in /Users/audrey/opt/anaconda3/lib/python3.8/site-packages (from matplotlib->WordCloud) (1.3.1)\n",
      "Requirement already satisfied: python-dateutil>=2.1 in /Users/audrey/opt/anaconda3/lib/python3.8/site-packages (from matplotlib->WordCloud) (2.8.1)\n",
      "Requirement already satisfied: cycler>=0.10 in /Users/audrey/opt/anaconda3/lib/python3.8/site-packages (from matplotlib->WordCloud) (0.10.0)\n",
      "Requirement already satisfied: six in /Users/audrey/opt/anaconda3/lib/python3.8/site-packages (from cycler>=0.10->matplotlib->WordCloud) (1.15.0)\n"
     ]
    }
   ],
   "source": [
    "#! pip install WordCloud"
   ]
  },
  {
   "cell_type": "code",
   "execution_count": 86,
   "id": "b19752be",
   "metadata": {},
   "outputs": [
    {
     "data": {
      "text/plain": [
       "'/Users/audrey/Documents/0_NEU/IE6400/project3'"
      ]
     },
     "execution_count": 86,
     "metadata": {},
     "output_type": "execute_result"
    }
   ],
   "source": [
    "os.getcwd()"
   ]
  },
  {
   "cell_type": "code",
   "execution_count": 87,
   "id": "7b6fd486",
   "metadata": {},
   "outputs": [],
   "source": [
    "# read data from year 2017-2021\n",
    "df2017 = pd.read_csv(\"archive/2017.csv\")\n",
    "df2018 = pd.read_csv(\"archive/2018.csv\")\n",
    "df2019 = pd.read_csv(\"archive/2019.csv\")\n",
    "df2020 = pd.read_csv(\"archive/2020.csv\")\n",
    "df2021 = pd.read_csv(\"archive/2021.csv\")\n"
   ]
  },
  {
   "cell_type": "markdown",
   "id": "20a569fa",
   "metadata": {},
   "source": [
    "# Understand and process data"
   ]
  },
  {
   "cell_type": "code",
   "execution_count": 88,
   "id": "e3f40a3c",
   "metadata": {},
   "outputs": [
    {
     "data": {
      "text/html": [
       "<div>\n",
       "<style scoped>\n",
       "    .dataframe tbody tr th:only-of-type {\n",
       "        vertical-align: middle;\n",
       "    }\n",
       "\n",
       "    .dataframe tbody tr th {\n",
       "        vertical-align: top;\n",
       "    }\n",
       "\n",
       "    .dataframe thead th {\n",
       "        text-align: right;\n",
       "    }\n",
       "</style>\n",
       "<table border=\"1\" class=\"dataframe\">\n",
       "  <thead>\n",
       "    <tr style=\"text-align: right;\">\n",
       "      <th></th>\n",
       "      <th>Unnamed: 0</th>\n",
       "      <th>id</th>\n",
       "      <th>conversation_id</th>\n",
       "      <th>created_at</th>\n",
       "      <th>date</th>\n",
       "      <th>timezone</th>\n",
       "      <th>place</th>\n",
       "      <th>tweet</th>\n",
       "      <th>language</th>\n",
       "      <th>hashtags</th>\n",
       "      <th>...</th>\n",
       "      <th>geo</th>\n",
       "      <th>source</th>\n",
       "      <th>user_rt_id</th>\n",
       "      <th>user_rt</th>\n",
       "      <th>retweet_id</th>\n",
       "      <th>reply_to</th>\n",
       "      <th>retweet_date</th>\n",
       "      <th>translate</th>\n",
       "      <th>trans_src</th>\n",
       "      <th>trans_dest</th>\n",
       "    </tr>\n",
       "  </thead>\n",
       "  <tbody>\n",
       "    <tr>\n",
       "      <th>0</th>\n",
       "      <td>0</td>\n",
       "      <td>945814723521417217</td>\n",
       "      <td>945712432416137217</td>\n",
       "      <td>1.514335e+12</td>\n",
       "      <td>2017-12-27 00:32:57</td>\n",
       "      <td>0</td>\n",
       "      <td>NaN</td>\n",
       "      <td>@neilsiegel @Tesla Coming very soon</td>\n",
       "      <td>en</td>\n",
       "      <td>[]</td>\n",
       "      <td>...</td>\n",
       "      <td>NaN</td>\n",
       "      <td>NaN</td>\n",
       "      <td>NaN</td>\n",
       "      <td>NaN</td>\n",
       "      <td>NaN</td>\n",
       "      <td>[{'screen_name': 'neilsiegel', 'name': 'Neil S...</td>\n",
       "      <td>NaN</td>\n",
       "      <td>NaN</td>\n",
       "      <td>NaN</td>\n",
       "      <td>NaN</td>\n",
       "    </tr>\n",
       "    <tr>\n",
       "      <th>1</th>\n",
       "      <td>1</td>\n",
       "      <td>945749747129659392</td>\n",
       "      <td>945712432416137217</td>\n",
       "      <td>1.514319e+12</td>\n",
       "      <td>2017-12-26 20:14:45</td>\n",
       "      <td>0</td>\n",
       "      <td>NaN</td>\n",
       "      <td>@Kreative Vastly better maps/nav coming soon</td>\n",
       "      <td>en</td>\n",
       "      <td>[]</td>\n",
       "      <td>...</td>\n",
       "      <td>NaN</td>\n",
       "      <td>NaN</td>\n",
       "      <td>NaN</td>\n",
       "      <td>NaN</td>\n",
       "      <td>NaN</td>\n",
       "      <td>[{'screen_name': 'Kreative', 'name': 'Leslie',...</td>\n",
       "      <td>NaN</td>\n",
       "      <td>NaN</td>\n",
       "      <td>NaN</td>\n",
       "      <td>NaN</td>\n",
       "    </tr>\n",
       "    <tr>\n",
       "      <th>2</th>\n",
       "      <td>2</td>\n",
       "      <td>945748731197980672</td>\n",
       "      <td>945712432416137217</td>\n",
       "      <td>1.514319e+12</td>\n",
       "      <td>2017-12-26 20:10:43</td>\n",
       "      <td>0</td>\n",
       "      <td>NaN</td>\n",
       "      <td>@dd_hogan Ok</td>\n",
       "      <td>und</td>\n",
       "      <td>[]</td>\n",
       "      <td>...</td>\n",
       "      <td>NaN</td>\n",
       "      <td>NaN</td>\n",
       "      <td>NaN</td>\n",
       "      <td>NaN</td>\n",
       "      <td>NaN</td>\n",
       "      <td>[{'screen_name': 'dd_hogan', 'name': 'Live4EVD...</td>\n",
       "      <td>NaN</td>\n",
       "      <td>NaN</td>\n",
       "      <td>NaN</td>\n",
       "      <td>NaN</td>\n",
       "    </tr>\n",
       "    <tr>\n",
       "      <th>3</th>\n",
       "      <td>3</td>\n",
       "      <td>945730195113365504</td>\n",
       "      <td>945727773493968896</td>\n",
       "      <td>1.514315e+12</td>\n",
       "      <td>2017-12-26 18:57:03</td>\n",
       "      <td>0</td>\n",
       "      <td>NaN</td>\n",
       "      <td>@Jason @Tesla Sure</td>\n",
       "      <td>en</td>\n",
       "      <td>[]</td>\n",
       "      <td>...</td>\n",
       "      <td>NaN</td>\n",
       "      <td>NaN</td>\n",
       "      <td>NaN</td>\n",
       "      <td>NaN</td>\n",
       "      <td>NaN</td>\n",
       "      <td>[{'screen_name': 'Jason', 'name': 'jason@calac...</td>\n",
       "      <td>NaN</td>\n",
       "      <td>NaN</td>\n",
       "      <td>NaN</td>\n",
       "      <td>NaN</td>\n",
       "    </tr>\n",
       "    <tr>\n",
       "      <th>4</th>\n",
       "      <td>4</td>\n",
       "      <td>945729852874694656</td>\n",
       "      <td>945712432416137217</td>\n",
       "      <td>1.514315e+12</td>\n",
       "      <td>2017-12-26 18:55:42</td>\n",
       "      <td>0</td>\n",
       "      <td>NaN</td>\n",
       "      <td>@kabirakhtar Yeah, it’s terrible. Had to upgra...</td>\n",
       "      <td>en</td>\n",
       "      <td>[]</td>\n",
       "      <td>...</td>\n",
       "      <td>NaN</td>\n",
       "      <td>NaN</td>\n",
       "      <td>NaN</td>\n",
       "      <td>NaN</td>\n",
       "      <td>NaN</td>\n",
       "      <td>[{'screen_name': 'kabirakhtar', 'name': 'kabir...</td>\n",
       "      <td>NaN</td>\n",
       "      <td>NaN</td>\n",
       "      <td>NaN</td>\n",
       "      <td>NaN</td>\n",
       "    </tr>\n",
       "  </tbody>\n",
       "</table>\n",
       "<p>5 rows × 39 columns</p>\n",
       "</div>"
      ],
      "text/plain": [
       "   Unnamed: 0                  id     conversation_id    created_at  \\\n",
       "0           0  945814723521417217  945712432416137217  1.514335e+12   \n",
       "1           1  945749747129659392  945712432416137217  1.514319e+12   \n",
       "2           2  945748731197980672  945712432416137217  1.514319e+12   \n",
       "3           3  945730195113365504  945727773493968896  1.514315e+12   \n",
       "4           4  945729852874694656  945712432416137217  1.514315e+12   \n",
       "\n",
       "                  date  timezone  place  \\\n",
       "0  2017-12-27 00:32:57         0    NaN   \n",
       "1  2017-12-26 20:14:45         0    NaN   \n",
       "2  2017-12-26 20:10:43         0    NaN   \n",
       "3  2017-12-26 18:57:03         0    NaN   \n",
       "4  2017-12-26 18:55:42         0    NaN   \n",
       "\n",
       "                                               tweet language hashtags  ...  \\\n",
       "0                @neilsiegel @Tesla Coming very soon       en       []  ...   \n",
       "1       @Kreative Vastly better maps/nav coming soon       en       []  ...   \n",
       "2                                       @dd_hogan Ok      und       []  ...   \n",
       "3                                 @Jason @Tesla Sure       en       []  ...   \n",
       "4  @kabirakhtar Yeah, it’s terrible. Had to upgra...       en       []  ...   \n",
       "\n",
       "  geo  source  user_rt_id user_rt retweet_id  \\\n",
       "0 NaN     NaN         NaN     NaN        NaN   \n",
       "1 NaN     NaN         NaN     NaN        NaN   \n",
       "2 NaN     NaN         NaN     NaN        NaN   \n",
       "3 NaN     NaN         NaN     NaN        NaN   \n",
       "4 NaN     NaN         NaN     NaN        NaN   \n",
       "\n",
       "                                            reply_to  retweet_date translate  \\\n",
       "0  [{'screen_name': 'neilsiegel', 'name': 'Neil S...           NaN       NaN   \n",
       "1  [{'screen_name': 'Kreative', 'name': 'Leslie',...           NaN       NaN   \n",
       "2  [{'screen_name': 'dd_hogan', 'name': 'Live4EVD...           NaN       NaN   \n",
       "3  [{'screen_name': 'Jason', 'name': 'jason@calac...           NaN       NaN   \n",
       "4  [{'screen_name': 'kabirakhtar', 'name': 'kabir...           NaN       NaN   \n",
       "\n",
       "  trans_src trans_dest  \n",
       "0       NaN        NaN  \n",
       "1       NaN        NaN  \n",
       "2       NaN        NaN  \n",
       "3       NaN        NaN  \n",
       "4       NaN        NaN  \n",
       "\n",
       "[5 rows x 39 columns]"
      ]
     },
     "execution_count": 88,
     "metadata": {},
     "output_type": "execute_result"
    }
   ],
   "source": [
    "df2017.head()"
   ]
  },
  {
   "cell_type": "code",
   "execution_count": 89,
   "id": "8c39b873",
   "metadata": {
    "scrolled": true
   },
   "outputs": [
    {
     "name": "stdout",
     "output_type": "stream",
     "text": [
      "<class 'pandas.core.frame.DataFrame'>\n",
      "RangeIndex: 3167 entries, 0 to 3166\n",
      "Data columns (total 39 columns):\n",
      " #   Column           Non-Null Count  Dtype  \n",
      "---  ------           --------------  -----  \n",
      " 0   Unnamed: 0       3167 non-null   int64  \n",
      " 1   id               3167 non-null   int64  \n",
      " 2   conversation_id  3167 non-null   int64  \n",
      " 3   created_at       3167 non-null   float64\n",
      " 4   date             3167 non-null   object \n",
      " 5   timezone         3167 non-null   int64  \n",
      " 6   place            0 non-null      float64\n",
      " 7   tweet            3167 non-null   object \n",
      " 8   language         3167 non-null   object \n",
      " 9   hashtags         3167 non-null   object \n",
      " 10  cashtags         3167 non-null   object \n",
      " 11  user_id          3167 non-null   int64  \n",
      " 12  user_id_str      3167 non-null   int64  \n",
      " 13  username         3167 non-null   object \n",
      " 14  name             3167 non-null   object \n",
      " 15  day              3167 non-null   int64  \n",
      " 16  hour             3167 non-null   int64  \n",
      " 17  link             3167 non-null   object \n",
      " 18  urls             3167 non-null   object \n",
      " 19  photos           3167 non-null   object \n",
      " 20  video            3167 non-null   int64  \n",
      " 21  thumbnail        187 non-null    object \n",
      " 22  retweet          3167 non-null   bool   \n",
      " 23  nlikes           3167 non-null   int64  \n",
      " 24  nreplies         3167 non-null   int64  \n",
      " 25  nretweets        3167 non-null   int64  \n",
      " 26  quote_url        103 non-null    object \n",
      " 27  search           3167 non-null   object \n",
      " 28  near             0 non-null      float64\n",
      " 29  geo              0 non-null      float64\n",
      " 30  source           0 non-null      float64\n",
      " 31  user_rt_id       0 non-null      float64\n",
      " 32  user_rt          0 non-null      float64\n",
      " 33  retweet_id       0 non-null      float64\n",
      " 34  reply_to         3167 non-null   object \n",
      " 35  retweet_date     0 non-null      float64\n",
      " 36  translate        0 non-null      float64\n",
      " 37  trans_src        0 non-null      float64\n",
      " 38  trans_dest       0 non-null      float64\n",
      "dtypes: bool(1), float64(12), int64(12), object(14)\n",
      "memory usage: 943.4+ KB\n"
     ]
    }
   ],
   "source": [
    "df2017.info()"
   ]
  },
  {
   "cell_type": "code",
   "execution_count": 90,
   "id": "53430aab",
   "metadata": {
    "scrolled": true
   },
   "outputs": [
    {
     "data": {
      "text/html": [
       "<div>\n",
       "<style scoped>\n",
       "    .dataframe tbody tr th:only-of-type {\n",
       "        vertical-align: middle;\n",
       "    }\n",
       "\n",
       "    .dataframe tbody tr th {\n",
       "        vertical-align: top;\n",
       "    }\n",
       "\n",
       "    .dataframe thead th {\n",
       "        text-align: right;\n",
       "    }\n",
       "</style>\n",
       "<table border=\"1\" class=\"dataframe\">\n",
       "  <thead>\n",
       "    <tr style=\"text-align: right;\">\n",
       "      <th></th>\n",
       "      <th>Unnamed: 0</th>\n",
       "      <th>id</th>\n",
       "      <th>conversation_id</th>\n",
       "      <th>created_at</th>\n",
       "      <th>timezone</th>\n",
       "      <th>place</th>\n",
       "      <th>user_id</th>\n",
       "      <th>user_id_str</th>\n",
       "      <th>day</th>\n",
       "      <th>hour</th>\n",
       "      <th>...</th>\n",
       "      <th>near</th>\n",
       "      <th>geo</th>\n",
       "      <th>source</th>\n",
       "      <th>user_rt_id</th>\n",
       "      <th>user_rt</th>\n",
       "      <th>retweet_id</th>\n",
       "      <th>retweet_date</th>\n",
       "      <th>translate</th>\n",
       "      <th>trans_src</th>\n",
       "      <th>trans_dest</th>\n",
       "    </tr>\n",
       "  </thead>\n",
       "  <tbody>\n",
       "    <tr>\n",
       "      <th>count</th>\n",
       "      <td>3167.000000</td>\n",
       "      <td>3.167000e+03</td>\n",
       "      <td>3.167000e+03</td>\n",
       "      <td>3.167000e+03</td>\n",
       "      <td>3167.0</td>\n",
       "      <td>0.0</td>\n",
       "      <td>3167.0</td>\n",
       "      <td>3167.0</td>\n",
       "      <td>3167.000000</td>\n",
       "      <td>3167.000000</td>\n",
       "      <td>...</td>\n",
       "      <td>0.0</td>\n",
       "      <td>0.0</td>\n",
       "      <td>0.0</td>\n",
       "      <td>0.0</td>\n",
       "      <td>0.0</td>\n",
       "      <td>0.0</td>\n",
       "      <td>0.0</td>\n",
       "      <td>0.0</td>\n",
       "      <td>0.0</td>\n",
       "      <td>0.0</td>\n",
       "    </tr>\n",
       "    <tr>\n",
       "      <th>mean</th>\n",
       "      <td>1583.000000</td>\n",
       "      <td>6.590143e+17</td>\n",
       "      <td>6.587789e+17</td>\n",
       "      <td>1.445952e+12</td>\n",
       "      <td>0.0</td>\n",
       "      <td>NaN</td>\n",
       "      <td>44196397.0</td>\n",
       "      <td>44196397.0</td>\n",
       "      <td>4.233344</td>\n",
       "      <td>12.504263</td>\n",
       "      <td>...</td>\n",
       "      <td>NaN</td>\n",
       "      <td>NaN</td>\n",
       "      <td>NaN</td>\n",
       "      <td>NaN</td>\n",
       "      <td>NaN</td>\n",
       "      <td>NaN</td>\n",
       "      <td>NaN</td>\n",
       "      <td>NaN</td>\n",
       "      <td>NaN</td>\n",
       "      <td>NaN</td>\n",
       "    </tr>\n",
       "    <tr>\n",
       "      <th>std</th>\n",
       "      <td>914.378477</td>\n",
       "      <td>2.379594e+17</td>\n",
       "      <td>2.378503e+17</td>\n",
       "      <td>5.674593e+10</td>\n",
       "      <td>0.0</td>\n",
       "      <td>NaN</td>\n",
       "      <td>0.0</td>\n",
       "      <td>0.0</td>\n",
       "      <td>1.954356</td>\n",
       "      <td>7.701672</td>\n",
       "      <td>...</td>\n",
       "      <td>NaN</td>\n",
       "      <td>NaN</td>\n",
       "      <td>NaN</td>\n",
       "      <td>NaN</td>\n",
       "      <td>NaN</td>\n",
       "      <td>NaN</td>\n",
       "      <td>NaN</td>\n",
       "      <td>NaN</td>\n",
       "      <td>NaN</td>\n",
       "      <td>NaN</td>\n",
       "    </tr>\n",
       "    <tr>\n",
       "      <th>min</th>\n",
       "      <td>0.000000</td>\n",
       "      <td>1.543473e+10</td>\n",
       "      <td>1.543473e+10</td>\n",
       "      <td>1.275676e+12</td>\n",
       "      <td>0.0</td>\n",
       "      <td>NaN</td>\n",
       "      <td>44196397.0</td>\n",
       "      <td>44196397.0</td>\n",
       "      <td>1.000000</td>\n",
       "      <td>0.000000</td>\n",
       "      <td>...</td>\n",
       "      <td>NaN</td>\n",
       "      <td>NaN</td>\n",
       "      <td>NaN</td>\n",
       "      <td>NaN</td>\n",
       "      <td>NaN</td>\n",
       "      <td>NaN</td>\n",
       "      <td>NaN</td>\n",
       "      <td>NaN</td>\n",
       "      <td>NaN</td>\n",
       "      <td>NaN</td>\n",
       "    </tr>\n",
       "    <tr>\n",
       "      <th>25%</th>\n",
       "      <td>791.500000</td>\n",
       "      <td>4.572019e+17</td>\n",
       "      <td>4.572013e+17</td>\n",
       "      <td>1.397840e+12</td>\n",
       "      <td>0.0</td>\n",
       "      <td>NaN</td>\n",
       "      <td>44196397.0</td>\n",
       "      <td>44196397.0</td>\n",
       "      <td>3.000000</td>\n",
       "      <td>5.000000</td>\n",
       "      <td>...</td>\n",
       "      <td>NaN</td>\n",
       "      <td>NaN</td>\n",
       "      <td>NaN</td>\n",
       "      <td>NaN</td>\n",
       "      <td>NaN</td>\n",
       "      <td>NaN</td>\n",
       "      <td>NaN</td>\n",
       "      <td>NaN</td>\n",
       "      <td>NaN</td>\n",
       "      <td>NaN</td>\n",
       "    </tr>\n",
       "    <tr>\n",
       "      <th>50%</th>\n",
       "      <td>1583.000000</td>\n",
       "      <td>7.430977e+17</td>\n",
       "      <td>7.430971e+17</td>\n",
       "      <td>1.466003e+12</td>\n",
       "      <td>0.0</td>\n",
       "      <td>NaN</td>\n",
       "      <td>44196397.0</td>\n",
       "      <td>44196397.0</td>\n",
       "      <td>4.000000</td>\n",
       "      <td>15.000000</td>\n",
       "      <td>...</td>\n",
       "      <td>NaN</td>\n",
       "      <td>NaN</td>\n",
       "      <td>NaN</td>\n",
       "      <td>NaN</td>\n",
       "      <td>NaN</td>\n",
       "      <td>NaN</td>\n",
       "      <td>NaN</td>\n",
       "      <td>NaN</td>\n",
       "      <td>NaN</td>\n",
       "      <td>NaN</td>\n",
       "    </tr>\n",
       "    <tr>\n",
       "      <th>75%</th>\n",
       "      <td>2374.500000</td>\n",
       "      <td>8.622148e+17</td>\n",
       "      <td>8.621445e+17</td>\n",
       "      <td>1.494403e+12</td>\n",
       "      <td>0.0</td>\n",
       "      <td>NaN</td>\n",
       "      <td>44196397.0</td>\n",
       "      <td>44196397.0</td>\n",
       "      <td>6.000000</td>\n",
       "      <td>19.000000</td>\n",
       "      <td>...</td>\n",
       "      <td>NaN</td>\n",
       "      <td>NaN</td>\n",
       "      <td>NaN</td>\n",
       "      <td>NaN</td>\n",
       "      <td>NaN</td>\n",
       "      <td>NaN</td>\n",
       "      <td>NaN</td>\n",
       "      <td>NaN</td>\n",
       "      <td>NaN</td>\n",
       "      <td>NaN</td>\n",
       "    </tr>\n",
       "    <tr>\n",
       "      <th>max</th>\n",
       "      <td>3166.000000</td>\n",
       "      <td>9.458147e+17</td>\n",
       "      <td>9.457278e+17</td>\n",
       "      <td>1.514335e+12</td>\n",
       "      <td>0.0</td>\n",
       "      <td>NaN</td>\n",
       "      <td>44196397.0</td>\n",
       "      <td>44196397.0</td>\n",
       "      <td>7.000000</td>\n",
       "      <td>23.000000</td>\n",
       "      <td>...</td>\n",
       "      <td>NaN</td>\n",
       "      <td>NaN</td>\n",
       "      <td>NaN</td>\n",
       "      <td>NaN</td>\n",
       "      <td>NaN</td>\n",
       "      <td>NaN</td>\n",
       "      <td>NaN</td>\n",
       "      <td>NaN</td>\n",
       "      <td>NaN</td>\n",
       "      <td>NaN</td>\n",
       "    </tr>\n",
       "  </tbody>\n",
       "</table>\n",
       "<p>8 rows × 24 columns</p>\n",
       "</div>"
      ],
      "text/plain": [
       "        Unnamed: 0            id  conversation_id    created_at  timezone  \\\n",
       "count  3167.000000  3.167000e+03     3.167000e+03  3.167000e+03    3167.0   \n",
       "mean   1583.000000  6.590143e+17     6.587789e+17  1.445952e+12       0.0   \n",
       "std     914.378477  2.379594e+17     2.378503e+17  5.674593e+10       0.0   \n",
       "min       0.000000  1.543473e+10     1.543473e+10  1.275676e+12       0.0   \n",
       "25%     791.500000  4.572019e+17     4.572013e+17  1.397840e+12       0.0   \n",
       "50%    1583.000000  7.430977e+17     7.430971e+17  1.466003e+12       0.0   \n",
       "75%    2374.500000  8.622148e+17     8.621445e+17  1.494403e+12       0.0   \n",
       "max    3166.000000  9.458147e+17     9.457278e+17  1.514335e+12       0.0   \n",
       "\n",
       "       place     user_id  user_id_str          day         hour  ...  near  \\\n",
       "count    0.0      3167.0       3167.0  3167.000000  3167.000000  ...   0.0   \n",
       "mean     NaN  44196397.0   44196397.0     4.233344    12.504263  ...   NaN   \n",
       "std      NaN         0.0          0.0     1.954356     7.701672  ...   NaN   \n",
       "min      NaN  44196397.0   44196397.0     1.000000     0.000000  ...   NaN   \n",
       "25%      NaN  44196397.0   44196397.0     3.000000     5.000000  ...   NaN   \n",
       "50%      NaN  44196397.0   44196397.0     4.000000    15.000000  ...   NaN   \n",
       "75%      NaN  44196397.0   44196397.0     6.000000    19.000000  ...   NaN   \n",
       "max      NaN  44196397.0   44196397.0     7.000000    23.000000  ...   NaN   \n",
       "\n",
       "       geo  source  user_rt_id  user_rt  retweet_id  retweet_date  translate  \\\n",
       "count  0.0     0.0         0.0      0.0         0.0           0.0        0.0   \n",
       "mean   NaN     NaN         NaN      NaN         NaN           NaN        NaN   \n",
       "std    NaN     NaN         NaN      NaN         NaN           NaN        NaN   \n",
       "min    NaN     NaN         NaN      NaN         NaN           NaN        NaN   \n",
       "25%    NaN     NaN         NaN      NaN         NaN           NaN        NaN   \n",
       "50%    NaN     NaN         NaN      NaN         NaN           NaN        NaN   \n",
       "75%    NaN     NaN         NaN      NaN         NaN           NaN        NaN   \n",
       "max    NaN     NaN         NaN      NaN         NaN           NaN        NaN   \n",
       "\n",
       "       trans_src  trans_dest  \n",
       "count        0.0         0.0  \n",
       "mean         NaN         NaN  \n",
       "std          NaN         NaN  \n",
       "min          NaN         NaN  \n",
       "25%          NaN         NaN  \n",
       "50%          NaN         NaN  \n",
       "75%          NaN         NaN  \n",
       "max          NaN         NaN  \n",
       "\n",
       "[8 rows x 24 columns]"
      ]
     },
     "execution_count": 90,
     "metadata": {},
     "output_type": "execute_result"
    }
   ],
   "source": [
    "df2017.describe()"
   ]
  },
  {
   "cell_type": "code",
   "execution_count": 91,
   "id": "8e9ae65e",
   "metadata": {},
   "outputs": [
    {
     "name": "stdout",
     "output_type": "stream",
     "text": [
      "num of username:  1 ['elonmusk']\n",
      "num of name:  1 ['Elon Musk']\n",
      "num of ID/tweet:  3167\n"
     ]
    }
   ],
   "source": [
    "# understand data\n",
    "\n",
    "# check they are all from Musk's tweeter account\n",
    "# username: Username of the tweet/reply author.\n",
    "print(\"num of username: \", len(unique(df2017[\"username\"])), unique(df2017[\"username\"]))\n",
    "# name: Name of tweet/reply author.\n",
    "print(\"num of name: \", len(unique(df2017[\"name\"])), unique(df2017[\"name\"]))\n",
    "\n",
    "\n",
    "# id: ID of tweet. \n",
    "print(\"num of ID/tweet: \", len(unique(df2017[\"id\"])))"
   ]
  },
  {
   "cell_type": "code",
   "execution_count": 92,
   "id": "265980f1",
   "metadata": {},
   "outputs": [
    {
     "name": "stdout",
     "output_type": "stream",
     "text": [
      "df2017: 3167 [2010 2011 2012 2013 2014 2015 2016 2017]\n",
      "df2018: 2285 [2018]\n",
      "df2019: 8312 [2010 2011 2012 2013 2014 2015 2016 2017 2018 2019]\n",
      "df2020: 11717 [2010 2011 2012 2013 2014 2015 2016 2017 2018 2019 2020]\n",
      "df2021: 3115 [2021]\n"
     ]
    }
   ],
   "source": [
    "# check \"date\", date: Date of Creation\n",
    "# output shows that there are data from other years in a single year dataframe.\n",
    "print(\"df2017:\", len(df2017), unique(pd.to_datetime(df2017[\"date\"]).dt.year))\n",
    "print(\"df2018:\", len(df2018), unique(pd.to_datetime(df2018[\"date\"]).dt.year))\n",
    "print(\"df2019:\", len(df2019), unique(pd.to_datetime(df2019[\"date\"]).dt.year))\n",
    "print(\"df2020:\", len(df2020), unique(pd.to_datetime(df2020[\"date\"]).dt.year))\n",
    "print(\"df2021:\", len(df2021), unique(pd.to_datetime(df2021[\"date\"]).dt.year))\n",
    "\n",
    "# output tells us each file is not represent its real year data"
   ]
  },
  {
   "cell_type": "code",
   "execution_count": 175,
   "id": "7543823f",
   "metadata": {},
   "outputs": [],
   "source": [
    "# concat df and process all\n",
    "df = pd.concat([df2017, df2018, df2019, df2020, df2021])"
   ]
  },
  {
   "cell_type": "code",
   "execution_count": 94,
   "id": "e9945737",
   "metadata": {
    "scrolled": true
   },
   "outputs": [
    {
     "name": "stdout",
     "output_type": "stream",
     "text": [
      "<class 'pandas.core.frame.DataFrame'>\n",
      "Int64Index: 28596 entries, 0 to 3114\n",
      "Data columns (total 44 columns):\n",
      " #   Column           Non-Null Count  Dtype  \n",
      "---  ------           --------------  -----  \n",
      " 0   Unnamed: 0       25481 non-null  float64\n",
      " 1   id               28596 non-null  int64  \n",
      " 2   conversation_id  28596 non-null  int64  \n",
      " 3   created_at       28596 non-null  object \n",
      " 4   date             28596 non-null  object \n",
      " 5   timezone         28596 non-null  int64  \n",
      " 6   place            0 non-null      float64\n",
      " 7   tweet            28596 non-null  object \n",
      " 8   language         28596 non-null  object \n",
      " 9   hashtags         28596 non-null  object \n",
      " 10  cashtags         28596 non-null  object \n",
      " 11  user_id          28596 non-null  int64  \n",
      " 12  user_id_str      25481 non-null  float64\n",
      " 13  username         28596 non-null  object \n",
      " 14  name             28596 non-null  object \n",
      " 15  day              25481 non-null  float64\n",
      " 16  hour             25481 non-null  float64\n",
      " 17  link             28596 non-null  object \n",
      " 18  urls             28596 non-null  object \n",
      " 19  photos           28596 non-null  object \n",
      " 20  video            28596 non-null  int64  \n",
      " 21  thumbnail        1745 non-null   object \n",
      " 22  retweet          28596 non-null  bool   \n",
      " 23  nlikes           25481 non-null  float64\n",
      " 24  nreplies         25481 non-null  float64\n",
      " 25  nretweets        25481 non-null  float64\n",
      " 26  quote_url        974 non-null    object \n",
      " 27  search           25481 non-null  object \n",
      " 28  near             0 non-null      float64\n",
      " 29  geo              0 non-null      float64\n",
      " 30  source           0 non-null      float64\n",
      " 31  user_rt_id       0 non-null      float64\n",
      " 32  user_rt          0 non-null      float64\n",
      " 33  retweet_id       0 non-null      float64\n",
      " 34  reply_to         28596 non-null  object \n",
      " 35  retweet_date     0 non-null      float64\n",
      " 36  translate        0 non-null      float64\n",
      " 37  trans_src        0 non-null      float64\n",
      " 38  trans_dest       0 non-null      float64\n",
      " 39  time             3115 non-null   object \n",
      " 40  mentions         3115 non-null   object \n",
      " 41  replies_count    3115 non-null   float64\n",
      " 42  retweets_count   3115 non-null   float64\n",
      " 43  likes_count      3115 non-null   float64\n",
      "dtypes: bool(1), float64(21), int64(5), object(17)\n",
      "memory usage: 9.6+ MB\n"
     ]
    }
   ],
   "source": [
    "df.info()"
   ]
  },
  {
   "cell_type": "code",
   "execution_count": 176,
   "id": "f6fc9be0",
   "metadata": {},
   "outputs": [],
   "source": [
    "# convert data type\n",
    "df[\"date\"] = pd.to_datetime(df[\"date\"])"
   ]
  },
  {
   "cell_type": "code",
   "execution_count": 177,
   "id": "b8004674",
   "metadata": {},
   "outputs": [
    {
     "name": "stdout",
     "output_type": "stream",
     "text": [
      "df: 28596 14832 [2010 2011 2012 2013 2014 2015 2016 2017 2018 2019 2020 2021]\n"
     ]
    }
   ],
   "source": [
    "# data description tells us that id is primary key for one tweet poated, so let's see this:\n",
    "print(\"df:\", len(df), len(unique(df[\"id\"])), unique(df[\"date\"].dt.year))"
   ]
  },
  {
   "cell_type": "code",
   "execution_count": 178,
   "id": "9cd521cc",
   "metadata": {},
   "outputs": [
    {
     "name": "stdout",
     "output_type": "stream",
     "text": [
      "df: 14832 14832 [2010 2011 2012 2013 2014 2015 2016 2017 2018 2019 2020 2021]\n"
     ]
    }
   ],
   "source": [
    "# so we need to remove duplicates:\n",
    "df = df.drop_duplicates(subset=['id'])\n",
    "print(\"df:\", len(df), len(unique(df[\"id\"])), unique(df[\"date\"].dt.year))"
   ]
  },
  {
   "cell_type": "code",
   "execution_count": 179,
   "id": "b107bbea",
   "metadata": {},
   "outputs": [
    {
     "name": "stdout",
     "output_type": "stream",
     "text": [
      "df: 12826 [2017 2018 2019 2020 2021]\n"
     ]
    }
   ],
   "source": [
    "# then we filter 5 complete years required\n",
    "df = df.loc[(df[\"date\"].dt.year >= 2017) & (df[\"date\"].dt.year <= 2021)]\n",
    "print(\"df:\", len(df), unique(df[\"date\"].dt.year))"
   ]
  },
  {
   "cell_type": "code",
   "execution_count": 99,
   "id": "6d11e6ef",
   "metadata": {
    "scrolled": true
   },
   "outputs": [
    {
     "name": "stdout",
     "output_type": "stream",
     "text": [
      "<class 'pandas.core.frame.DataFrame'>\n",
      "Int64Index: 12826 entries, 0 to 3114\n",
      "Data columns (total 44 columns):\n",
      " #   Column           Non-Null Count  Dtype         \n",
      "---  ------           --------------  -----         \n",
      " 0   Unnamed: 0       9711 non-null   float64       \n",
      " 1   id               12826 non-null  int64         \n",
      " 2   conversation_id  12826 non-null  int64         \n",
      " 3   created_at       12826 non-null  object        \n",
      " 4   date             12826 non-null  datetime64[ns]\n",
      " 5   timezone         12826 non-null  int64         \n",
      " 6   place            0 non-null      float64       \n",
      " 7   tweet            12826 non-null  object        \n",
      " 8   language         12826 non-null  object        \n",
      " 9   hashtags         12826 non-null  object        \n",
      " 10  cashtags         12826 non-null  object        \n",
      " 11  user_id          12826 non-null  int64         \n",
      " 12  user_id_str      9711 non-null   float64       \n",
      " 13  username         12826 non-null  object        \n",
      " 14  name             12826 non-null  object        \n",
      " 15  day              9711 non-null   float64       \n",
      " 16  hour             9711 non-null   float64       \n",
      " 17  link             12826 non-null  object        \n",
      " 18  urls             12826 non-null  object        \n",
      " 19  photos           12826 non-null  object        \n",
      " 20  video            12826 non-null  int64         \n",
      " 21  thumbnail        791 non-null    object        \n",
      " 22  retweet          12826 non-null  bool          \n",
      " 23  nlikes           9711 non-null   float64       \n",
      " 24  nreplies         9711 non-null   float64       \n",
      " 25  nretweets        9711 non-null   float64       \n",
      " 26  quote_url        397 non-null    object        \n",
      " 27  search           9711 non-null   object        \n",
      " 28  near             0 non-null      float64       \n",
      " 29  geo              0 non-null      float64       \n",
      " 30  source           0 non-null      float64       \n",
      " 31  user_rt_id       0 non-null      float64       \n",
      " 32  user_rt          0 non-null      float64       \n",
      " 33  retweet_id       0 non-null      float64       \n",
      " 34  reply_to         12826 non-null  object        \n",
      " 35  retweet_date     0 non-null      float64       \n",
      " 36  translate        0 non-null      float64       \n",
      " 37  trans_src        0 non-null      float64       \n",
      " 38  trans_dest       0 non-null      float64       \n",
      " 39  time             3115 non-null   object        \n",
      " 40  mentions         3115 non-null   object        \n",
      " 41  replies_count    3115 non-null   float64       \n",
      " 42  retweets_count   3115 non-null   float64       \n",
      " 43  likes_count      3115 non-null   float64       \n",
      "dtypes: bool(1), datetime64[ns](1), float64(21), int64(5), object(16)\n",
      "memory usage: 4.3+ MB\n"
     ]
    }
   ],
   "source": [
    "df.info()"
   ]
  },
  {
   "cell_type": "code",
   "execution_count": 180,
   "id": "d40ffa69",
   "metadata": {
    "scrolled": true
   },
   "outputs": [
    {
     "name": "stdout",
     "output_type": "stream",
     "text": [
      "num of username:  1 ['elonmusk']\n",
      "num of name:  1 ['Elon Musk']\n"
     ]
    }
   ],
   "source": [
    "# again check they are all from Musk's tweeter account\n",
    "# username: Username of the tweet/reply author.\n",
    "print(\"num of username: \", len(unique(df2017[\"username\"])), unique(df2017[\"username\"]))\n",
    "# name: Name of tweet/reply author.\n",
    "print(\"num of name: \", len(unique(df2017[\"name\"])), unique(df2017[\"name\"]))"
   ]
  },
  {
   "cell_type": "code",
   "execution_count": 181,
   "id": "a522d986",
   "metadata": {
    "scrolled": true
   },
   "outputs": [
    {
     "data": {
      "text/plain": [
       "language\n",
       "en     11052\n",
       "und     1346\n",
       "tl       132\n",
       "de        41\n",
       "fr        39\n",
       "es        33\n",
       "in        24\n",
       "ru        15\n",
       "pt        11\n",
       "pl        11\n",
       "nl        11\n",
       "it        11\n",
       "et        10\n",
       "ca         9\n",
       "tr         9\n",
       "da         9\n",
       "lt         7\n",
       "cy         6\n",
       "hi         5\n",
       "no         5\n",
       "ro         5\n",
       "is         4\n",
       "ht         4\n",
       "eu         3\n",
       "sl         3\n",
       "hu         3\n",
       "ja         3\n",
       "sv         3\n",
       "vi         2\n",
       "lv         2\n",
       "fi         2\n",
       "cs         2\n",
       "sr         1\n",
       "el         1\n",
       "uk         1\n",
       "ar         1\n",
       "Name: language, dtype: int64"
      ]
     },
     "execution_count": 181,
     "metadata": {},
     "output_type": "execute_result"
    }
   ],
   "source": [
    "# see what languages he used\n",
    "unique(df.language)\n",
    "df.groupby([\"language\"])[\"language\"].agg(\"count\").sort_values(ascending=False)\n",
    "\n",
    "# output: \"und\" is \"Undetermined language, in ISO 639-3 language code\"\n",
    "# import libs about SO 639-3 language code?"
   ]
  },
  {
   "cell_type": "code",
   "execution_count": 192,
   "id": "68d9bb53",
   "metadata": {
    "scrolled": true
   },
   "outputs": [
    {
     "data": {
      "text/plain": [
       "11052"
      ]
     },
     "execution_count": 192,
     "metadata": {},
     "output_type": "execute_result"
    }
   ],
   "source": [
    "en = df[df[\"language\"]==\"en\"]\n",
    "len(en)"
   ]
  },
  {
   "cell_type": "code",
   "execution_count": 147,
   "id": "3ddef406",
   "metadata": {},
   "outputs": [],
   "source": [
    "#en.to_csv(\"en.csv\")"
   ]
  },
  {
   "cell_type": "code",
   "execution_count": 159,
   "id": "99c922e0",
   "metadata": {},
   "outputs": [],
   "source": [
    "# we need col \"reply_to\", to remove @screen_name in col \"tweet\", so that only leaves tweet context he posted.\n",
    "#a = pd.DataFrame.from_dict(pd.DataFrame(df[\"reply_to\"]))"
   ]
  },
  {
   "cell_type": "code",
   "execution_count": 193,
   "id": "5016be4b",
   "metadata": {},
   "outputs": [
    {
     "name": "stdout",
     "output_type": "stream",
     "text": [
      "<class 'pandas.core.frame.DataFrame'>\n",
      "Int64Index: 11052 entries, 0 to 3114\n",
      "Data columns (total 44 columns):\n",
      " #   Column           Non-Null Count  Dtype         \n",
      "---  ------           --------------  -----         \n",
      " 0   Unnamed: 0       8488 non-null   float64       \n",
      " 1   id               11052 non-null  int64         \n",
      " 2   conversation_id  11052 non-null  int64         \n",
      " 3   created_at       11052 non-null  object        \n",
      " 4   date             11052 non-null  datetime64[ns]\n",
      " 5   timezone         11052 non-null  int64         \n",
      " 6   place            0 non-null      float64       \n",
      " 7   tweet            11052 non-null  object        \n",
      " 8   language         11052 non-null  object        \n",
      " 9   hashtags         11052 non-null  object        \n",
      " 10  cashtags         11052 non-null  object        \n",
      " 11  user_id          11052 non-null  int64         \n",
      " 12  user_id_str      8488 non-null   float64       \n",
      " 13  username         11052 non-null  object        \n",
      " 14  name             11052 non-null  object        \n",
      " 15  day              8488 non-null   float64       \n",
      " 16  hour             8488 non-null   float64       \n",
      " 17  link             11052 non-null  object        \n",
      " 18  urls             11052 non-null  object        \n",
      " 19  photos           11052 non-null  object        \n",
      " 20  video            11052 non-null  int64         \n",
      " 21  thumbnail        525 non-null    object        \n",
      " 22  retweet          11052 non-null  bool          \n",
      " 23  nlikes           8488 non-null   float64       \n",
      " 24  nreplies         8488 non-null   float64       \n",
      " 25  nretweets        8488 non-null   float64       \n",
      " 26  quote_url        364 non-null    object        \n",
      " 27  search           8488 non-null   object        \n",
      " 28  near             0 non-null      float64       \n",
      " 29  geo              0 non-null      float64       \n",
      " 30  source           0 non-null      float64       \n",
      " 31  user_rt_id       0 non-null      float64       \n",
      " 32  user_rt          0 non-null      float64       \n",
      " 33  retweet_id       0 non-null      float64       \n",
      " 34  reply_to         11052 non-null  object        \n",
      " 35  retweet_date     0 non-null      float64       \n",
      " 36  translate        0 non-null      float64       \n",
      " 37  trans_src        0 non-null      float64       \n",
      " 38  trans_dest       0 non-null      float64       \n",
      " 39  time             2564 non-null   object        \n",
      " 40  mentions         2564 non-null   object        \n",
      " 41  replies_count    2564 non-null   float64       \n",
      " 42  retweets_count   2564 non-null   float64       \n",
      " 43  likes_count      2564 non-null   float64       \n",
      "dtypes: bool(1), datetime64[ns](1), float64(21), int64(5), object(16)\n",
      "memory usage: 3.7+ MB\n"
     ]
    }
   ],
   "source": [
    "en.info()"
   ]
  },
  {
   "cell_type": "code",
   "execution_count": 194,
   "id": "54017217",
   "metadata": {},
   "outputs": [
    {
     "data": {
      "text/html": [
       "<div>\n",
       "<style scoped>\n",
       "    .dataframe tbody tr th:only-of-type {\n",
       "        vertical-align: middle;\n",
       "    }\n",
       "\n",
       "    .dataframe tbody tr th {\n",
       "        vertical-align: top;\n",
       "    }\n",
       "\n",
       "    .dataframe thead th {\n",
       "        text-align: right;\n",
       "    }\n",
       "</style>\n",
       "<table border=\"1\" class=\"dataframe\">\n",
       "  <thead>\n",
       "    <tr style=\"text-align: right;\">\n",
       "      <th></th>\n",
       "      <th>reply_to</th>\n",
       "    </tr>\n",
       "  </thead>\n",
       "  <tbody>\n",
       "    <tr>\n",
       "      <th>0</th>\n",
       "      <td>[{'screen_name': 'neilsiegel', 'name': 'Neil S...</td>\n",
       "    </tr>\n",
       "    <tr>\n",
       "      <th>1</th>\n",
       "      <td>[{'screen_name': 'Kreative', 'name': 'Leslie',...</td>\n",
       "    </tr>\n",
       "    <tr>\n",
       "      <th>2</th>\n",
       "      <td>[{'screen_name': 'dd_hogan', 'name': 'Live4EVD...</td>\n",
       "    </tr>\n",
       "    <tr>\n",
       "      <th>3</th>\n",
       "      <td>[{'screen_name': 'Jason', 'name': 'jason@calac...</td>\n",
       "    </tr>\n",
       "    <tr>\n",
       "      <th>4</th>\n",
       "      <td>[{'screen_name': 'kabirakhtar', 'name': 'kabir...</td>\n",
       "    </tr>\n",
       "    <tr>\n",
       "      <th>...</th>\n",
       "      <td>...</td>\n",
       "    </tr>\n",
       "    <tr>\n",
       "      <th>3110</th>\n",
       "      <td>[{'screen_name': 'flcnhvy', 'name': 'Viv ✶', '...</td>\n",
       "    </tr>\n",
       "    <tr>\n",
       "      <th>3111</th>\n",
       "      <td>[]</td>\n",
       "    </tr>\n",
       "    <tr>\n",
       "      <th>3112</th>\n",
       "      <td>[{'screen_name': 'newscientist', 'name': 'New ...</td>\n",
       "    </tr>\n",
       "    <tr>\n",
       "      <th>3113</th>\n",
       "      <td>[{'screen_name': 'comma_ai', 'name': 'comma', ...</td>\n",
       "    </tr>\n",
       "    <tr>\n",
       "      <th>3114</th>\n",
       "      <td>[{'screen_name': 'PPathole', 'name': 'Pranay P...</td>\n",
       "    </tr>\n",
       "  </tbody>\n",
       "</table>\n",
       "<p>12826 rows × 1 columns</p>\n",
       "</div>"
      ],
      "text/plain": [
       "                                               reply_to\n",
       "0     [{'screen_name': 'neilsiegel', 'name': 'Neil S...\n",
       "1     [{'screen_name': 'Kreative', 'name': 'Leslie',...\n",
       "2     [{'screen_name': 'dd_hogan', 'name': 'Live4EVD...\n",
       "3     [{'screen_name': 'Jason', 'name': 'jason@calac...\n",
       "4     [{'screen_name': 'kabirakhtar', 'name': 'kabir...\n",
       "...                                                 ...\n",
       "3110  [{'screen_name': 'flcnhvy', 'name': 'Viv ✶', '...\n",
       "3111                                                 []\n",
       "3112  [{'screen_name': 'newscientist', 'name': 'New ...\n",
       "3113  [{'screen_name': 'comma_ai', 'name': 'comma', ...\n",
       "3114  [{'screen_name': 'PPathole', 'name': 'Pranay P...\n",
       "\n",
       "[12826 rows x 1 columns]"
      ]
     },
     "execution_count": 194,
     "metadata": {},
     "output_type": "execute_result"
    }
   ],
   "source": [
    "#a"
   ]
  },
  {
   "cell_type": "code",
   "execution_count": 166,
   "id": "01c251b7",
   "metadata": {},
   "outputs": [],
   "source": [
    "#en[\"reply_to\"] = pd.DataFrame(en[\"reply_to\"])"
   ]
  },
  {
   "cell_type": "code",
   "execution_count": 195,
   "id": "ef86ba9e",
   "metadata": {},
   "outputs": [
    {
     "data": {
      "text/plain": [
       "pandas.core.series.Series"
      ]
     },
     "execution_count": 195,
     "metadata": {},
     "output_type": "execute_result"
    }
   ],
   "source": [
    "type(en[\"reply_to\"])"
   ]
  },
  {
   "cell_type": "code",
   "execution_count": 196,
   "id": "989a3d4e",
   "metadata": {},
   "outputs": [
    {
     "data": {
      "text/plain": [
       "str"
      ]
     },
     "execution_count": 196,
     "metadata": {},
     "output_type": "execute_result"
    }
   ],
   "source": [
    "type(en[\"reply_to\"].values[0])"
   ]
  },
  {
   "cell_type": "code",
   "execution_count": 197,
   "id": "bfb635b9",
   "metadata": {},
   "outputs": [
    {
     "data": {
      "text/plain": [
       "\"[{'screen_name': 'neilsiegel', 'name': 'Neil Siegel', 'id': '255527845'}, {'screen_name': 'Tesla', 'name': 'Tesla', 'id': '13298072'}]\""
      ]
     },
     "execution_count": 197,
     "metadata": {},
     "output_type": "execute_result"
    }
   ],
   "source": [
    "en[\"reply_to\"].values[0]"
   ]
  },
  {
   "cell_type": "code",
   "execution_count": 187,
   "id": "dd3bda5a",
   "metadata": {},
   "outputs": [
    {
     "name": "stdout",
     "output_type": "stream",
     "text": [
      "[{'screen_name': 'neilsiegel', 'name': 'Neil Siegel', 'id': '255527845'}, {'screen_name': 'Tesla', 'name': 'Tesla', 'id': '13298072'}]\n"
     ]
    }
   ],
   "source": [
    "import json\n",
    "\n",
    "sting1 = \"[{'screen_name': 'neilsiegel', 'name': 'Neil Siegel', 'id': '255527845'}, {'screen_name': 'Tesla', 'name': 'Tesla', 'id': '13298072'}]\"\n",
    "\n",
    "# Replace single quotes with double quotes and convert to a valid JSON string\n",
    "json_str = sting1.replace(\"'\", \"\\\"\")\n",
    "\n",
    "# Convert the JSON string to a Python dictionary\n",
    "my_dict = json.loads(json_str)\n",
    "\n",
    "print(my_dict)\n"
   ]
  },
  {
   "cell_type": "code",
   "execution_count": 190,
   "id": "dabe3725",
   "metadata": {},
   "outputs": [
    {
     "ename": "TypeError",
     "evalue": "list indices must be integers or slices, not str",
     "output_type": "error",
     "traceback": [
      "\u001b[0;31m---------------------------------------------------------------------------\u001b[0m",
      "\u001b[0;31mTypeError\u001b[0m                                 Traceback (most recent call last)",
      "\u001b[0;32m<ipython-input-190-8b8acbe4ddd9>\u001b[0m in \u001b[0;36m<module>\u001b[0;34m\u001b[0m\n\u001b[0;32m----> 1\u001b[0;31m \u001b[0mmy_dict\u001b[0m\u001b[0;34m[\u001b[0m\u001b[0;34m\"screen_name\"\u001b[0m\u001b[0;34m]\u001b[0m\u001b[0;34m\u001b[0m\u001b[0;34m\u001b[0m\u001b[0m\n\u001b[0m",
      "\u001b[0;31mTypeError\u001b[0m: list indices must be integers or slices, not str"
     ]
    }
   ],
   "source": [
    "my_dict[\"screen_name\"]"
   ]
  },
  {
   "cell_type": "code",
   "execution_count": 124,
   "id": "b5d38975",
   "metadata": {},
   "outputs": [],
   "source": [
    "# example 1. it has 1 reply name.\n",
    "reply_name_list1 = [{'screen_name': 'FredericLambert', 'name': 'Fred Lambert', 'id': '38253449'}]\n",
    "tweet_full1 = \"@FredericLambert Kinda\"\n",
    "tweet_reply_name = \"@FredericLambert\"\n",
    "\n",
    "# example 2. it has 1 reply name, but @TeslaMotors.\n",
    "tweet_full2 = \"@TheStaceyRoy @TeslaMotors California Cabernet\"\n",
    "reply_name_list2 = [{'screen_name': 'TheStaceyRoy', 'name': 'Stacey Roy', 'id': '440525434'}]\n",
    "\n",
    "# example 3. it has 3 reply names.\n",
    "tweet_full3 = \"@waltmossberg @mims @defcon_5 Et tu, Walt?\"\n",
    "reply_name_list3 = [{'screen_name': 'waltmossberg', 'name': 'Walt Mossberg', 'id': '5746452'}, \n",
    " {'screen_name': 'mims', 'name': 'Christopher Mims', 'id': '1769191'}, \n",
    " {'screen_name': 'defcon_5', 'name': 'defcon_5', 'id': '17212941'}]"
   ]
  },
  {
   "cell_type": "code",
   "execution_count": null,
   "id": "85d1e0b4",
   "metadata": {},
   "outputs": [],
   "source": [
    "# Using loop + isinstance()\n",
    "for dicts in row_list:\n",
    "    for key, val in dicts.items():\n",
    "         \n",
    "        # isinstance() is used to check for list to convert\n",
    "        if isinstance(val, list):\n",
    "            dicts[key] = val[0]\n",
    " \n",
    "# printing result\n",
    "print(\"The converted Dictionary list : \" + str(test_list))"
   ]
  },
  {
   "cell_type": "code",
   "execution_count": 126,
   "id": "e7582d68",
   "metadata": {},
   "outputs": [
    {
     "data": {
      "text/plain": [
       "3"
      ]
     },
     "execution_count": 126,
     "metadata": {},
     "output_type": "execute_result"
    }
   ],
   "source": [
    "len(reply_name_list3)"
   ]
  },
  {
   "cell_type": "code",
   "execution_count": 198,
   "id": "6bb9a7c4",
   "metadata": {},
   "outputs": [
    {
     "data": {
      "text/plain": [
       "pandas.core.series.Series"
      ]
     },
     "execution_count": 198,
     "metadata": {},
     "output_type": "execute_result"
    }
   ],
   "source": [
    "type(en[\"reply_to\"])"
   ]
  },
  {
   "cell_type": "code",
   "execution_count": 203,
   "id": "527ae0f6",
   "metadata": {},
   "outputs": [
    {
     "data": {
      "text/plain": [
       "\"[{'screen_name': 'neilsiegel', 'name': 'Neil Siegel', 'id': '255527845'}, {'screen_name': 'Tesla', 'name': 'Tesla', 'id': '13298072'}]\""
      ]
     },
     "execution_count": 203,
     "metadata": {},
     "output_type": "execute_result"
    }
   ],
   "source": [
    "df[\"reply_to\"].values[0]"
   ]
  },
  {
   "cell_type": "code",
   "execution_count": 206,
   "id": "861de99c",
   "metadata": {},
   "outputs": [
    {
     "data": {
      "text/plain": [
       "[{'screen_name': 'neilsiegel', 'name': 'Neil Siegel', 'id': '255527845'},\n",
       " {'screen_name': 'Tesla', 'name': 'Tesla', 'id': '13298072'}]"
      ]
     },
     "execution_count": 206,
     "metadata": {},
     "output_type": "execute_result"
    }
   ],
   "source": [
    "aa = df[\"reply_to\"].values[0].replace(\"'\", \"\\\"\")\n",
    "aa\n",
    "aa = json.loads(aa)\n",
    "aa\n"
   ]
  },
  {
   "cell_type": "code",
   "execution_count": 209,
   "id": "c131f4cc",
   "metadata": {},
   "outputs": [
    {
     "data": {
      "text/plain": [
       "\"[{'screen_name': 'neilsiegel', 'name': 'Neil Siegel', 'id': '255527845'}, {'screen_name': 'Tesla', 'name': 'Tesla', 'id': '13298072'}]\""
      ]
     },
     "execution_count": 209,
     "metadata": {},
     "output_type": "execute_result"
    }
   ],
   "source": [
    "df[\"reply_to\"].values[0]"
   ]
  },
  {
   "cell_type": "code",
   "execution_count": 207,
   "id": "fe4aac87",
   "metadata": {},
   "outputs": [],
   "source": [
    "def remove_reply_name(df: pd.DataFrame, col: str, rect: str):\n",
    "    for i in range(len(df)):\n",
    "        aa = df[col].values[i].replace(\"'\", \"\\\"\")\n",
    "        aa = json.loads(aa)\n",
    "        df[col].values[i] = json.loads(aa)\n",
    "        for dicts in df[col].values[i]:\n",
    "                name = \"@\" + dicts[\"screen_name\"]\n",
    "                df[rect].values[i] = df[rect].values[i].replace(name, \"\")\n",
    "    return df[rect]\n",
    "\n",
    "#print(tweet_full3.replace((\"@\" + reply_name_list3[0][\"screen_name\"]), ''))"
   ]
  },
  {
   "cell_type": "code",
   "execution_count": 208,
   "id": "4ce0a071",
   "metadata": {},
   "outputs": [
    {
     "ename": "JSONDecodeError",
     "evalue": "Invalid \\escape: line 1 column 57 (char 56)",
     "output_type": "error",
     "traceback": [
      "\u001b[0;31m---------------------------------------------------------------------------\u001b[0m",
      "\u001b[0;31mJSONDecodeError\u001b[0m                           Traceback (most recent call last)",
      "\u001b[0;32m<ipython-input-208-cc09dd85e478>\u001b[0m in \u001b[0;36m<module>\u001b[0;34m\u001b[0m\n\u001b[0;32m----> 1\u001b[0;31m \u001b[0mremove_reply_name\u001b[0m\u001b[0;34m(\u001b[0m\u001b[0men\u001b[0m\u001b[0;34m,\u001b[0m \u001b[0;34m\"reply_to\"\u001b[0m\u001b[0;34m,\u001b[0m \u001b[0;34m\"tweet\"\u001b[0m\u001b[0;34m)\u001b[0m\u001b[0;34m\u001b[0m\u001b[0;34m\u001b[0m\u001b[0m\n\u001b[0m",
      "\u001b[0;32m<ipython-input-207-8e8edf51d6f0>\u001b[0m in \u001b[0;36mremove_reply_name\u001b[0;34m(df, col, rect)\u001b[0m\n\u001b[1;32m      2\u001b[0m     \u001b[0;32mfor\u001b[0m \u001b[0mi\u001b[0m \u001b[0;32min\u001b[0m \u001b[0mrange\u001b[0m\u001b[0;34m(\u001b[0m\u001b[0mlen\u001b[0m\u001b[0;34m(\u001b[0m\u001b[0mdf\u001b[0m\u001b[0;34m)\u001b[0m\u001b[0;34m)\u001b[0m\u001b[0;34m:\u001b[0m\u001b[0;34m\u001b[0m\u001b[0;34m\u001b[0m\u001b[0m\n\u001b[1;32m      3\u001b[0m         \u001b[0maa\u001b[0m \u001b[0;34m=\u001b[0m \u001b[0mdf\u001b[0m\u001b[0;34m[\u001b[0m\u001b[0mcol\u001b[0m\u001b[0;34m]\u001b[0m\u001b[0;34m.\u001b[0m\u001b[0mvalues\u001b[0m\u001b[0;34m[\u001b[0m\u001b[0mi\u001b[0m\u001b[0;34m]\u001b[0m\u001b[0;34m.\u001b[0m\u001b[0mreplace\u001b[0m\u001b[0;34m(\u001b[0m\u001b[0;34m\"'\"\u001b[0m\u001b[0;34m,\u001b[0m \u001b[0;34m\"\\\"\"\u001b[0m\u001b[0;34m)\u001b[0m\u001b[0;34m\u001b[0m\u001b[0;34m\u001b[0m\u001b[0m\n\u001b[0;32m----> 4\u001b[0;31m         \u001b[0mdf\u001b[0m\u001b[0;34m[\u001b[0m\u001b[0mcol\u001b[0m\u001b[0;34m]\u001b[0m\u001b[0;34m.\u001b[0m\u001b[0mvalues\u001b[0m\u001b[0;34m[\u001b[0m\u001b[0mi\u001b[0m\u001b[0;34m]\u001b[0m \u001b[0;34m=\u001b[0m \u001b[0mjson\u001b[0m\u001b[0;34m.\u001b[0m\u001b[0mloads\u001b[0m\u001b[0;34m(\u001b[0m\u001b[0maa\u001b[0m\u001b[0;34m)\u001b[0m\u001b[0;34m\u001b[0m\u001b[0;34m\u001b[0m\u001b[0m\n\u001b[0m\u001b[1;32m      5\u001b[0m         \u001b[0;32mfor\u001b[0m \u001b[0mdicts\u001b[0m \u001b[0;32min\u001b[0m \u001b[0mdf\u001b[0m\u001b[0;34m[\u001b[0m\u001b[0mcol\u001b[0m\u001b[0;34m]\u001b[0m\u001b[0;34m.\u001b[0m\u001b[0mvalues\u001b[0m\u001b[0;34m[\u001b[0m\u001b[0mi\u001b[0m\u001b[0;34m]\u001b[0m\u001b[0;34m:\u001b[0m\u001b[0;34m\u001b[0m\u001b[0;34m\u001b[0m\u001b[0m\n\u001b[1;32m      6\u001b[0m                 \u001b[0mname\u001b[0m \u001b[0;34m=\u001b[0m \u001b[0;34m\"@\"\u001b[0m \u001b[0;34m+\u001b[0m \u001b[0mdicts\u001b[0m\u001b[0;34m[\u001b[0m\u001b[0;34m\"screen_name\"\u001b[0m\u001b[0;34m]\u001b[0m\u001b[0;34m\u001b[0m\u001b[0;34m\u001b[0m\u001b[0m\n",
      "\u001b[0;32m~/opt/anaconda3/lib/python3.8/json/__init__.py\u001b[0m in \u001b[0;36mloads\u001b[0;34m(s, cls, object_hook, parse_float, parse_int, parse_constant, object_pairs_hook, **kw)\u001b[0m\n\u001b[1;32m    355\u001b[0m             \u001b[0mparse_int\u001b[0m \u001b[0;32mis\u001b[0m \u001b[0;32mNone\u001b[0m \u001b[0;32mand\u001b[0m \u001b[0mparse_float\u001b[0m \u001b[0;32mis\u001b[0m \u001b[0;32mNone\u001b[0m \u001b[0;32mand\u001b[0m\u001b[0;34m\u001b[0m\u001b[0;34m\u001b[0m\u001b[0m\n\u001b[1;32m    356\u001b[0m             parse_constant is None and object_pairs_hook is None and not kw):\n\u001b[0;32m--> 357\u001b[0;31m         \u001b[0;32mreturn\u001b[0m \u001b[0m_default_decoder\u001b[0m\u001b[0;34m.\u001b[0m\u001b[0mdecode\u001b[0m\u001b[0;34m(\u001b[0m\u001b[0ms\u001b[0m\u001b[0;34m)\u001b[0m\u001b[0;34m\u001b[0m\u001b[0;34m\u001b[0m\u001b[0m\n\u001b[0m\u001b[1;32m    358\u001b[0m     \u001b[0;32mif\u001b[0m \u001b[0mcls\u001b[0m \u001b[0;32mis\u001b[0m \u001b[0;32mNone\u001b[0m\u001b[0;34m:\u001b[0m\u001b[0;34m\u001b[0m\u001b[0;34m\u001b[0m\u001b[0m\n\u001b[1;32m    359\u001b[0m         \u001b[0mcls\u001b[0m \u001b[0;34m=\u001b[0m \u001b[0mJSONDecoder\u001b[0m\u001b[0;34m\u001b[0m\u001b[0;34m\u001b[0m\u001b[0m\n",
      "\u001b[0;32m~/opt/anaconda3/lib/python3.8/json/decoder.py\u001b[0m in \u001b[0;36mdecode\u001b[0;34m(self, s, _w)\u001b[0m\n\u001b[1;32m    335\u001b[0m \u001b[0;34m\u001b[0m\u001b[0m\n\u001b[1;32m    336\u001b[0m         \"\"\"\n\u001b[0;32m--> 337\u001b[0;31m         \u001b[0mobj\u001b[0m\u001b[0;34m,\u001b[0m \u001b[0mend\u001b[0m \u001b[0;34m=\u001b[0m \u001b[0mself\u001b[0m\u001b[0;34m.\u001b[0m\u001b[0mraw_decode\u001b[0m\u001b[0;34m(\u001b[0m\u001b[0ms\u001b[0m\u001b[0;34m,\u001b[0m \u001b[0midx\u001b[0m\u001b[0;34m=\u001b[0m\u001b[0m_w\u001b[0m\u001b[0;34m(\u001b[0m\u001b[0ms\u001b[0m\u001b[0;34m,\u001b[0m \u001b[0;36m0\u001b[0m\u001b[0;34m)\u001b[0m\u001b[0;34m.\u001b[0m\u001b[0mend\u001b[0m\u001b[0;34m(\u001b[0m\u001b[0;34m)\u001b[0m\u001b[0;34m)\u001b[0m\u001b[0;34m\u001b[0m\u001b[0;34m\u001b[0m\u001b[0m\n\u001b[0m\u001b[1;32m    338\u001b[0m         \u001b[0mend\u001b[0m \u001b[0;34m=\u001b[0m \u001b[0m_w\u001b[0m\u001b[0;34m(\u001b[0m\u001b[0ms\u001b[0m\u001b[0;34m,\u001b[0m \u001b[0mend\u001b[0m\u001b[0;34m)\u001b[0m\u001b[0;34m.\u001b[0m\u001b[0mend\u001b[0m\u001b[0;34m(\u001b[0m\u001b[0;34m)\u001b[0m\u001b[0;34m\u001b[0m\u001b[0;34m\u001b[0m\u001b[0m\n\u001b[1;32m    339\u001b[0m         \u001b[0;32mif\u001b[0m \u001b[0mend\u001b[0m \u001b[0;34m!=\u001b[0m \u001b[0mlen\u001b[0m\u001b[0;34m(\u001b[0m\u001b[0ms\u001b[0m\u001b[0;34m)\u001b[0m\u001b[0;34m:\u001b[0m\u001b[0;34m\u001b[0m\u001b[0;34m\u001b[0m\u001b[0m\n",
      "\u001b[0;32m~/opt/anaconda3/lib/python3.8/json/decoder.py\u001b[0m in \u001b[0;36mraw_decode\u001b[0;34m(self, s, idx)\u001b[0m\n\u001b[1;32m    351\u001b[0m         \"\"\"\n\u001b[1;32m    352\u001b[0m         \u001b[0;32mtry\u001b[0m\u001b[0;34m:\u001b[0m\u001b[0;34m\u001b[0m\u001b[0;34m\u001b[0m\u001b[0m\n\u001b[0;32m--> 353\u001b[0;31m             \u001b[0mobj\u001b[0m\u001b[0;34m,\u001b[0m \u001b[0mend\u001b[0m \u001b[0;34m=\u001b[0m \u001b[0mself\u001b[0m\u001b[0;34m.\u001b[0m\u001b[0mscan_once\u001b[0m\u001b[0;34m(\u001b[0m\u001b[0ms\u001b[0m\u001b[0;34m,\u001b[0m \u001b[0midx\u001b[0m\u001b[0;34m)\u001b[0m\u001b[0;34m\u001b[0m\u001b[0;34m\u001b[0m\u001b[0m\n\u001b[0m\u001b[1;32m    354\u001b[0m         \u001b[0;32mexcept\u001b[0m \u001b[0mStopIteration\u001b[0m \u001b[0;32mas\u001b[0m \u001b[0merr\u001b[0m\u001b[0;34m:\u001b[0m\u001b[0;34m\u001b[0m\u001b[0;34m\u001b[0m\u001b[0m\n\u001b[1;32m    355\u001b[0m             \u001b[0;32mraise\u001b[0m \u001b[0mJSONDecodeError\u001b[0m\u001b[0;34m(\u001b[0m\u001b[0;34m\"Expecting value\"\u001b[0m\u001b[0;34m,\u001b[0m \u001b[0ms\u001b[0m\u001b[0;34m,\u001b[0m \u001b[0merr\u001b[0m\u001b[0;34m.\u001b[0m\u001b[0mvalue\u001b[0m\u001b[0;34m)\u001b[0m \u001b[0;32mfrom\u001b[0m \u001b[0;32mNone\u001b[0m\u001b[0;34m\u001b[0m\u001b[0;34m\u001b[0m\u001b[0m\n",
      "\u001b[0;31mJSONDecodeError\u001b[0m: Invalid \\escape: line 1 column 57 (char 56)"
     ]
    }
   ],
   "source": [
    "remove_reply_name(en, \"reply_to\", \"tweet\")"
   ]
  },
  {
   "cell_type": "code",
   "execution_count": null,
   "id": "01d6e46a",
   "metadata": {},
   "outputs": [],
   "source": []
  },
  {
   "cell_type": "code",
   "execution_count": null,
   "id": "4bdf3434",
   "metadata": {},
   "outputs": [],
   "source": []
  },
  {
   "cell_type": "code",
   "execution_count": 122,
   "id": "a8cc672f",
   "metadata": {},
   "outputs": [],
   "source": []
  },
  {
   "cell_type": "code",
   "execution_count": null,
   "id": "f5a1dfb5",
   "metadata": {},
   "outputs": [],
   "source": []
  },
  {
   "cell_type": "code",
   "execution_count": null,
   "id": "79000114",
   "metadata": {},
   "outputs": [],
   "source": []
  },
  {
   "cell_type": "code",
   "execution_count": 119,
   "id": "ab028bf6",
   "metadata": {},
   "outputs": [
    {
     "data": {
      "text/plain": [
       "pandas.core.frame.DataFrame"
      ]
     },
     "execution_count": 119,
     "metadata": {},
     "output_type": "execute_result"
    }
   ],
   "source": [
    "type(pd.DataFrame(df[\"reply_to\"]))"
   ]
  },
  {
   "cell_type": "code",
   "execution_count": null,
   "id": "57cf6aa1",
   "metadata": {},
   "outputs": [],
   "source": [
    "b = len(df[\"reply_to\"])"
   ]
  },
  {
   "cell_type": "code",
   "execution_count": 113,
   "id": "518eddc5",
   "metadata": {},
   "outputs": [
    {
     "data": {
      "text/plain": [
       "0                     @neilsiegel @Tesla Coming very soon\n",
       "1            @Kreative Vastly better maps/nav coming soon\n",
       "3                                      @Jason @Tesla Sure\n",
       "4       @kabirakhtar Yeah, it’s terrible. Had to upgra...\n",
       "5       @sustainableanna @VanSeedBank Similar total si...\n",
       "                              ...                        \n",
       "3110    @flcnhvy Tesla is responsible for 2/3 of all t...\n",
       "3111    So proud of the Tesla team for achieving this ...\n",
       "3112    @newscientist Um, we have giant fusion reactor...\n",
       "3113    @comma_ai Tesla Full Self-Driving will work at...\n",
       "3114    @PPathole Dojo isn’t needed, but will make sel...\n",
       "Name: tweet, Length: 11052, dtype: object"
      ]
     },
     "execution_count": 113,
     "metadata": {},
     "output_type": "execute_result"
    }
   ],
   "source": [
    "en[\"tweet\"]"
   ]
  },
  {
   "cell_type": "code",
   "execution_count": 111,
   "id": "c594acd6",
   "metadata": {
    "collapsed": true
   },
   "outputs": [
    {
     "ename": "TypeError",
     "evalue": "expected string or bytes-like object",
     "output_type": "error",
     "traceback": [
      "\u001b[0;31m---------------------------------------------------------------------------\u001b[0m",
      "\u001b[0;31mTypeError\u001b[0m                                 Traceback (most recent call last)",
      "\u001b[0;32m<ipython-input-111-d75be9fbb738>\u001b[0m in \u001b[0;36m<module>\u001b[0;34m\u001b[0m\n\u001b[0;32m----> 1\u001b[0;31m \u001b[0mwordcloud\u001b[0m \u001b[0;34m=\u001b[0m \u001b[0mWordCloud\u001b[0m\u001b[0;34m(\u001b[0m\u001b[0;34m)\u001b[0m\u001b[0;34m.\u001b[0m\u001b[0mgenerate\u001b[0m\u001b[0;34m(\u001b[0m\u001b[0men\u001b[0m\u001b[0;34m[\u001b[0m\u001b[0;34m\"tweet\"\u001b[0m\u001b[0;34m]\u001b[0m\u001b[0;34m)\u001b[0m\u001b[0;34m\u001b[0m\u001b[0;34m\u001b[0m\u001b[0m\n\u001b[0m\u001b[1;32m      2\u001b[0m \u001b[0mplt\u001b[0m\u001b[0;34m.\u001b[0m\u001b[0mfigure\u001b[0m\u001b[0;34m(\u001b[0m\u001b[0;34m)\u001b[0m\u001b[0;34m\u001b[0m\u001b[0;34m\u001b[0m\u001b[0m\n\u001b[1;32m      3\u001b[0m \u001b[0mplt\u001b[0m\u001b[0;34m.\u001b[0m\u001b[0mimshow\u001b[0m\u001b[0;34m(\u001b[0m\u001b[0mwordcloud\u001b[0m\u001b[0;34m,\u001b[0m \u001b[0minterpolation\u001b[0m\u001b[0;34m=\u001b[0m\u001b[0;34m\"bilinear\"\u001b[0m\u001b[0;34m)\u001b[0m\u001b[0;34m\u001b[0m\u001b[0;34m\u001b[0m\u001b[0m\n\u001b[1;32m      4\u001b[0m \u001b[0mplt\u001b[0m\u001b[0;34m.\u001b[0m\u001b[0maxis\u001b[0m\u001b[0;34m(\u001b[0m\u001b[0;34m\"off\"\u001b[0m\u001b[0;34m)\u001b[0m\u001b[0;34m\u001b[0m\u001b[0;34m\u001b[0m\u001b[0m\n\u001b[1;32m      5\u001b[0m \u001b[0mplt\u001b[0m\u001b[0;34m.\u001b[0m\u001b[0mshow\u001b[0m\u001b[0;34m(\u001b[0m\u001b[0;34m)\u001b[0m\u001b[0;34m\u001b[0m\u001b[0;34m\u001b[0m\u001b[0m\n",
      "\u001b[0;32m~/opt/anaconda3/lib/python3.8/site-packages/wordcloud/wordcloud.py\u001b[0m in \u001b[0;36mgenerate\u001b[0;34m(self, text)\u001b[0m\n\u001b[1;32m    637\u001b[0m         \u001b[0mself\u001b[0m\u001b[0;34m\u001b[0m\u001b[0;34m\u001b[0m\u001b[0m\n\u001b[1;32m    638\u001b[0m         \"\"\"\n\u001b[0;32m--> 639\u001b[0;31m         \u001b[0;32mreturn\u001b[0m \u001b[0mself\u001b[0m\u001b[0;34m.\u001b[0m\u001b[0mgenerate_from_text\u001b[0m\u001b[0;34m(\u001b[0m\u001b[0mtext\u001b[0m\u001b[0;34m)\u001b[0m\u001b[0;34m\u001b[0m\u001b[0;34m\u001b[0m\u001b[0m\n\u001b[0m\u001b[1;32m    640\u001b[0m \u001b[0;34m\u001b[0m\u001b[0m\n\u001b[1;32m    641\u001b[0m     \u001b[0;32mdef\u001b[0m \u001b[0m_check_generated\u001b[0m\u001b[0;34m(\u001b[0m\u001b[0mself\u001b[0m\u001b[0;34m)\u001b[0m\u001b[0;34m:\u001b[0m\u001b[0;34m\u001b[0m\u001b[0;34m\u001b[0m\u001b[0m\n",
      "\u001b[0;32m~/opt/anaconda3/lib/python3.8/site-packages/wordcloud/wordcloud.py\u001b[0m in \u001b[0;36mgenerate_from_text\u001b[0;34m(self, text)\u001b[0m\n\u001b[1;32m    618\u001b[0m         \u001b[0mself\u001b[0m\u001b[0;34m\u001b[0m\u001b[0;34m\u001b[0m\u001b[0m\n\u001b[1;32m    619\u001b[0m         \"\"\"\n\u001b[0;32m--> 620\u001b[0;31m         \u001b[0mwords\u001b[0m \u001b[0;34m=\u001b[0m \u001b[0mself\u001b[0m\u001b[0;34m.\u001b[0m\u001b[0mprocess_text\u001b[0m\u001b[0;34m(\u001b[0m\u001b[0mtext\u001b[0m\u001b[0;34m)\u001b[0m\u001b[0;34m\u001b[0m\u001b[0;34m\u001b[0m\u001b[0m\n\u001b[0m\u001b[1;32m    621\u001b[0m         \u001b[0mself\u001b[0m\u001b[0;34m.\u001b[0m\u001b[0mgenerate_from_frequencies\u001b[0m\u001b[0;34m(\u001b[0m\u001b[0mwords\u001b[0m\u001b[0;34m)\u001b[0m\u001b[0;34m\u001b[0m\u001b[0;34m\u001b[0m\u001b[0m\n\u001b[1;32m    622\u001b[0m         \u001b[0;32mreturn\u001b[0m \u001b[0mself\u001b[0m\u001b[0;34m\u001b[0m\u001b[0;34m\u001b[0m\u001b[0m\n",
      "\u001b[0;32m~/opt/anaconda3/lib/python3.8/site-packages/wordcloud/wordcloud.py\u001b[0m in \u001b[0;36mprocess_text\u001b[0;34m(self, text)\u001b[0m\n\u001b[1;32m    580\u001b[0m         \u001b[0mregexp\u001b[0m \u001b[0;34m=\u001b[0m \u001b[0mself\u001b[0m\u001b[0;34m.\u001b[0m\u001b[0mregexp\u001b[0m \u001b[0;32mif\u001b[0m \u001b[0mself\u001b[0m\u001b[0;34m.\u001b[0m\u001b[0mregexp\u001b[0m \u001b[0;32mis\u001b[0m \u001b[0;32mnot\u001b[0m \u001b[0;32mNone\u001b[0m \u001b[0;32melse\u001b[0m \u001b[0mpattern\u001b[0m\u001b[0;34m\u001b[0m\u001b[0;34m\u001b[0m\u001b[0m\n\u001b[1;32m    581\u001b[0m \u001b[0;34m\u001b[0m\u001b[0m\n\u001b[0;32m--> 582\u001b[0;31m         \u001b[0mwords\u001b[0m \u001b[0;34m=\u001b[0m \u001b[0mre\u001b[0m\u001b[0;34m.\u001b[0m\u001b[0mfindall\u001b[0m\u001b[0;34m(\u001b[0m\u001b[0mregexp\u001b[0m\u001b[0;34m,\u001b[0m \u001b[0mtext\u001b[0m\u001b[0;34m,\u001b[0m \u001b[0mflags\u001b[0m\u001b[0;34m)\u001b[0m\u001b[0;34m\u001b[0m\u001b[0;34m\u001b[0m\u001b[0m\n\u001b[0m\u001b[1;32m    583\u001b[0m         \u001b[0;31m# remove 's\u001b[0m\u001b[0;34m\u001b[0m\u001b[0;34m\u001b[0m\u001b[0;34m\u001b[0m\u001b[0m\n\u001b[1;32m    584\u001b[0m         words = [word[:-2] if word.lower().endswith(\"'s\") else word\n",
      "\u001b[0;32m~/opt/anaconda3/lib/python3.8/re.py\u001b[0m in \u001b[0;36mfindall\u001b[0;34m(pattern, string, flags)\u001b[0m\n\u001b[1;32m    239\u001b[0m \u001b[0;34m\u001b[0m\u001b[0m\n\u001b[1;32m    240\u001b[0m     Empty matches are included in the result.\"\"\"\n\u001b[0;32m--> 241\u001b[0;31m     \u001b[0;32mreturn\u001b[0m \u001b[0m_compile\u001b[0m\u001b[0;34m(\u001b[0m\u001b[0mpattern\u001b[0m\u001b[0;34m,\u001b[0m \u001b[0mflags\u001b[0m\u001b[0;34m)\u001b[0m\u001b[0;34m.\u001b[0m\u001b[0mfindall\u001b[0m\u001b[0;34m(\u001b[0m\u001b[0mstring\u001b[0m\u001b[0;34m)\u001b[0m\u001b[0;34m\u001b[0m\u001b[0;34m\u001b[0m\u001b[0m\n\u001b[0m\u001b[1;32m    242\u001b[0m \u001b[0;34m\u001b[0m\u001b[0m\n\u001b[1;32m    243\u001b[0m \u001b[0;32mdef\u001b[0m \u001b[0mfinditer\u001b[0m\u001b[0;34m(\u001b[0m\u001b[0mpattern\u001b[0m\u001b[0;34m,\u001b[0m \u001b[0mstring\u001b[0m\u001b[0;34m,\u001b[0m \u001b[0mflags\u001b[0m\u001b[0;34m=\u001b[0m\u001b[0;36m0\u001b[0m\u001b[0;34m)\u001b[0m\u001b[0;34m:\u001b[0m\u001b[0;34m\u001b[0m\u001b[0;34m\u001b[0m\u001b[0m\n",
      "\u001b[0;31mTypeError\u001b[0m: expected string or bytes-like object"
     ]
    }
   ],
   "source": [
    "wordcloud = WordCloud().generate(en[\"tweet\"])\n",
    "plt.figure()\n",
    "plt.imshow(wordcloud, interpolation=\"bilinear\")\n",
    "plt.axis(\"off\")\n",
    "plt.show()"
   ]
  },
  {
   "cell_type": "markdown",
   "id": "52b2837c",
   "metadata": {},
   "source": [
    "# 1. TF\n",
    "1. Compute the term frequencies for each year. They should be **normalized** (scale of [0, 1]). **Exclude stopwords.**"
   ]
  },
  {
   "cell_type": "code",
   "execution_count": 102,
   "id": "d42ecc73",
   "metadata": {},
   "outputs": [],
   "source": [
    "#df.isna()"
   ]
  },
  {
   "cell_type": "code",
   "execution_count": 103,
   "id": "054dcf49",
   "metadata": {},
   "outputs": [],
   "source": [
    "# shape(df)\n",
    "# df = df[[\"date\",\"tweet\"]]\n",
    "# shape(df)"
   ]
  },
  {
   "cell_type": "code",
   "execution_count": 104,
   "id": "dbcd76ed",
   "metadata": {},
   "outputs": [
    {
     "name": "stderr",
     "output_type": "stream",
     "text": [
      "[nltk_data] Downloading package stopwords to\n",
      "[nltk_data]     /Users/audrey/nltk_data...\n",
      "[nltk_data]   Package stopwords is already up-to-date!\n"
     ]
    },
    {
     "data": {
      "text/plain": [
       "True"
      ]
     },
     "execution_count": 104,
     "metadata": {},
     "output_type": "execute_result"
    }
   ],
   "source": [
    "nltk.download('stopwords')"
   ]
  },
  {
   "cell_type": "markdown",
   "id": "1a5c713f",
   "metadata": {},
   "source": [
    "# 2. Top 10 words\n",
    "2. Show the top 10 words (for each year) by highest value of word frequency. "
   ]
  },
  {
   "cell_type": "code",
   "execution_count": null,
   "id": "af49ca00",
   "metadata": {},
   "outputs": [],
   "source": []
  },
  {
   "cell_type": "code",
   "execution_count": null,
   "id": "f3dc360b",
   "metadata": {},
   "outputs": [],
   "source": []
  },
  {
   "cell_type": "markdown",
   "id": "0f041c4a",
   "metadata": {},
   "source": [
    "# 3. Histogram\n",
    "3. Plot a histogram of word frequencies for each year "
   ]
  },
  {
   "cell_type": "code",
   "execution_count": null,
   "id": "dd692cbd",
   "metadata": {},
   "outputs": [],
   "source": []
  },
  {
   "cell_type": "code",
   "execution_count": null,
   "id": "bbcc297d",
   "metadata": {},
   "outputs": [],
   "source": []
  },
  {
   "cell_type": "markdown",
   "id": "86cbfe5b",
   "metadata": {},
   "source": [
    "# 4. Zipf's law\n",
    "4. Demonstrate Zipf’s law by plotting log-log plots of word frequencies v. rank for each year "
   ]
  },
  {
   "cell_type": "code",
   "execution_count": null,
   "id": "0d4f9def",
   "metadata": {},
   "outputs": [],
   "source": []
  },
  {
   "cell_type": "code",
   "execution_count": null,
   "id": "bd0cbd45",
   "metadata": {},
   "outputs": [],
   "source": []
  },
  {
   "cell_type": "code",
   "execution_count": null,
   "id": "dbc8248f",
   "metadata": {},
   "outputs": [],
   "source": []
  },
  {
   "cell_type": "markdown",
   "id": "52a748d9",
   "metadata": {},
   "source": [
    "# 5. TF-IDF\n",
    "5. Use TF-IDF to calculate and show the 5 most “important” words for each year "
   ]
  },
  {
   "cell_type": "code",
   "execution_count": null,
   "id": "d18bba90",
   "metadata": {},
   "outputs": [],
   "source": []
  },
  {
   "cell_type": "code",
   "execution_count": null,
   "id": "8fb1b014",
   "metadata": {},
   "outputs": [],
   "source": []
  },
  {
   "cell_type": "code",
   "execution_count": null,
   "id": "f3c466d9",
   "metadata": {},
   "outputs": [],
   "source": []
  },
  {
   "cell_type": "code",
   "execution_count": null,
   "id": "63ff8d5e",
   "metadata": {},
   "outputs": [],
   "source": []
  }
 ],
 "metadata": {
  "kernelspec": {
   "display_name": "Python 3",
   "language": "python",
   "name": "python3"
  },
  "language_info": {
   "codemirror_mode": {
    "name": "ipython",
    "version": 3
   },
   "file_extension": ".py",
   "mimetype": "text/x-python",
   "name": "python",
   "nbconvert_exporter": "python",
   "pygments_lexer": "ipython3",
   "version": "3.8.8"
  }
 },
 "nbformat": 4,
 "nbformat_minor": 5
}
